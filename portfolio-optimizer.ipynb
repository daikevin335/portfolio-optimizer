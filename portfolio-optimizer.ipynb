{
 "cells": [
  {
   "cell_type": "markdown",
   "id": "038f4e8e",
   "metadata": {},
   "source": [
    "# Portfolio Optimization \n",
    "\n",
    "## Config & Imports\n",
    "Set up configuration parameters amd imports neccessary libaries. \n",
    "The configuration defines stocks that will be analyzed, the time period, and key parameters like the risk-free rate."
   ]
  }
 ],
 "metadata": {
  "kernelspec": {
   "display_name": "Python 3.14 (portfolio-opt)",
   "language": "python",
   "name": "portfolio-opt"
  },
  "language_info": {
   "codemirror_mode": {
    "name": "ipython",
    "version": 3
   },
   "file_extension": ".py",
   "mimetype": "text/x-python",
   "name": "python",
   "nbconvert_exporter": "python",
   "pygments_lexer": "ipython3",
   "version": "3.14.0"
  }
 },
 "nbformat": 4,
 "nbformat_minor": 5
}
