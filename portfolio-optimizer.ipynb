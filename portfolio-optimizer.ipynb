{
 "cells": [
  {
   "cell_type": "markdown",
   "id": "038f4e8e",
   "metadata": {},
   "source": [
    "# Portfolio Optimization \n",
    "\n",
    "## Config & Imports\n",
    "Set up configuration parameters amd imports neccessary libaries. \n",
    "The configuration defines stocks that will be analyzed, the time period, and key parameters like the risk-free rate. "
   ]
  },
  {
   "cell_type": "code",
   "execution_count": 3,
   "id": "0f8f8713",
   "metadata": {},
   "outputs": [
    {
     "name": "stdout",
     "output_type": "stream",
     "text": [
      "Current Configuration:\n",
      "  TICKERS: ['AAPL', 'MSFT', 'GOOGL', 'AMZN', 'TSLA', 'META', 'NVDA', 'BRK-B']\n",
      "  START_DATE: 2020-10-22 15:07:41.632273\n",
      "  END_DATE: 2025-10-21 15:07:41.632282\n",
      "  INTERVAL: 1mo\n",
      "  RF_ANNUAL: 0.0412\n",
      "  ALLOW_SHORTS: False\n",
      "  FREQUENCY: monthly\n",
      "\n",
      "Annualization factor: 12\n",
      "Date range: 2020-10-22 to 2025-10-21\n",
      "Risk-free rate: 0.0412 (4.12%)\n"
     ]
    },
    {
     "name": "stderr",
     "output_type": "stream",
     "text": [
      "/var/folders/q3/lqkxfhqd69scqh0r94mkbdm00000gn/T/ipykernel_51846/1437235916.py:39: FutureWarning: Series.__getitem__ treating keys as positions is deprecated. In a future version, integer keys will always be treated as labels (consistent with DataFrame behavior). To access a value by position, use `ser.iloc[pos]`\n",
      "  rf_rate = ten_year_treasury_rate[-1] # Convert to decimal\n"
     ]
    }
   ],
   "source": [
    "# Import required libraries \n",
    "import numpy as np\n",
    "import pandas as pd\n",
    "import yfinance as yf\n",
    "from datetime import datetime, timedelta\n",
    "from scipy.optimize import minimize\n",
    "import matplotlib.pyplot as plt\n",
    "from fredapi import Fred\n",
    "\n",
    "# Configuration\n",
    "CONFIG = {\n",
    "    'TICKERS': ['AAPL', 'MSFT', 'GOOGL', 'AMZN', 'TSLA', 'META', 'NVDA', 'BRK-B'],\n",
    "    'START_DATE': datetime.now() - timedelta(days=5*365),  # 5 years ago\n",
    "    'END_DATE': datetime.now(),  # Today\n",
    "    'INTERVAL': '1mo',  # Monthly data\n",
    "    'RF_ANNUAL': None,  # Will fetch from FRED\n",
    "    'ALLOW_SHORTS': False,  # Long-only portfolios\n",
    "    'FREQUENCY': 'monthly',\n",
    "    'FRED_API_KEY': '80d939285a25091784ba2f5be77fa106'\n",
    "}\n",
    "\n",
    "def annualization_factor(freq): \n",
    "   # Convert frequency to annulization factor \n",
    "   if freq == 'daily':\n",
    "      return 252\n",
    "   elif freq == 'weekly':\n",
    "      return 52\n",
    "   elif freq == 'monthly':\n",
    "      return 12\n",
    "   else: \n",
    "      raise ValueError(f\"Unsupported frequency: {freq}\")\n",
    "\n",
    "# Set risk-free rate \n",
    "def get_rf_rate():\n",
    "   # Fetch curent risk-free rate from FRED\n",
    "   fred = Fred(api_key = '80d939285a25091784ba2f5be77fa106')\n",
    "   ten_year_treasury_rate = fred.get_series('GS10') / 100\n",
    "   # Get 10-year Treasury Constant Maturity Rate (most recent)\n",
    "   rf_rate = ten_year_treasury_rate[-1] # Convert to decimal \n",
    "   return rf_rate\n",
    "\n",
    "# Fetch risk-free rate\n",
    "CONFIG['RF_ANNUAL'] = get_rf_rate()\n",
    "\n",
    "# Checkpoint: Print configuration \n",
    "print(\"Current Configuration:\")\n",
    "for key, value in CONFIG.items():\n",
    "   if key!= 'FRED_API_KEY': # Don't print API key\n",
    "      print(f\"  {key}: {value}\")\n",
    "print(f\"\\nAnnualization factor: {annualization_factor(CONFIG['FREQUENCY'])}\")\n",
    "print(f\"Date range: {CONFIG['START_DATE'].strftime('%Y-%m-%d')} to {CONFIG['END_DATE'].strftime('%Y-%m-%d')}\")\n",
    "print(f\"Risk-free rate: {CONFIG['RF_ANNUAL']:.4f} ({CONFIG['RF_ANNUAL']*100:.2f}%)\")\n",
    "      \n"
   ]
  },
  {
   "cell_type": "markdown",
   "id": "deefa8d2",
   "metadata": {},
   "source": [
    "## Data Import (yfinance)\n",
    "Fetch actual stock price data from yfinance. \n",
    "Will need to adjust closing prices for all tickers over the 5-year period, then clean data by forward-filling any missing values and dropping any remaining NaNs. "
   ]
  },
  {
   "cell_type": "code",
   "execution_count": 4,
   "id": "e09e2663",
   "metadata": {},
   "outputs": [
    {
     "name": "stderr",
     "output_type": "stream",
     "text": [
      "/var/folders/q3/lqkxfhqd69scqh0r94mkbdm00000gn/T/ipykernel_51846/3371259864.py:6: FutureWarning: YF.download() has changed argument auto_adjust default to True\n",
      "  prices = yf.download(tickers, start=start_date, end=end_date,\n"
     ]
    },
    {
     "name": "stdout",
     "output_type": "stream",
     "text": [
      "Fetching data for 8 tickers...\n",
      "\n",
      "Data shape: (60, 8)\n",
      "Date range: 2020-11-01 to 2025-10-01\n",
      "Number of observations: 60\n",
      "Number of assets: 8\n",
      "\n",
      "First few rows:\n",
      "Ticker            AAPL        AMZN       BRK-B       GOOGL        META  \\\n",
      "Date                                                                     \n",
      "2020-11-01  115.802040  158.401993  228.910004   87.119125  275.272980   \n",
      "2020-12-01  129.292618  162.846497  231.869995   87.031738  271.486359   \n",
      "2021-01-01  128.581299  160.309998  227.869995   90.742134  256.747192   \n",
      "2021-02-01  118.155243  154.646500  240.509995  100.403015  256.041565   \n",
      "2021-03-01  119.200325  154.703995  255.470001  102.419617  292.725433   \n",
      "\n",
      "Ticker            MSFT       NVDA        TSLA  \n",
      "Date                                           \n",
      "2020-11-01  205.255783  13.360715  189.199997  \n",
      "2020-12-01  213.820251  13.015271  235.223328  \n",
      "2021-01-01  222.991425  12.954044  264.510010  \n",
      "2021-02-01  223.395187  13.676803  225.166672  \n",
      "2021-03-01  227.176163  13.311559  222.643326  \n"
     ]
    }
   ],
   "source": [
    "# Data import \n",
    "def fetch_prices(tickers, start_date, end_date, interval):\n",
    "    # Fetch adjusted closing prices for given tickers\n",
    "    # Returns: DataFrame with forward-filled, cleaned price data\n",
    "    print(f\"Fetching data for {len(tickers)} tickers...\")\n",
    "    prices = yf.download(tickers, start=start_date, end=end_date, \n",
    "                        interval=interval, progress=False)\n",
    "    \n",
    "    # Handle multi-level columns - get Close prices \n",
    "    if prices.columns.nlevels > 1:\n",
    "        prices = prices['Close']  # Using Close since Adj Close not available for monthly\n",
    "    else:\n",
    "        # Single level columns - prices should already be Close\n",
    "        pass\n",
    "    \n",
    "    # Forward-fill missing values, then drop any remaining NaNs (updated syntax)\n",
    "    prices = prices.ffill().dropna()\n",
    "    \n",
    "    return prices\n",
    "\n",
    "# Fetch the price data\n",
    "prices = fetch_prices(CONFIG['TICKERS'], CONFIG['START_DATE'], \n",
    "                     CONFIG['END_DATE'], CONFIG['INTERVAL'])\n",
    "\n",
    "# Checkpoint: verify data quality \n",
    "print(f\"\\nData shape: {prices.shape}\")\n",
    "print(f\"Date range: {prices.index[0].strftime('%Y-%m-%d')} to {prices.index[-1].strftime('%Y-%m-%d')}\")\n",
    "print(f\"Number of observations: {len(prices)}\")\n",
    "print(f\"Number of assets: {prices.shape[1]}\")\n",
    "print(\"\\nFirst few rows:\")\n",
    "print(prices.head())\n",
    "assert prices.isnull().sum().sum() == 0, \"Should have no missing values after cleaning\""
   ]
  },
  {
   "cell_type": "markdown",
   "id": "cff9acb8",
   "metadata": {},
   "source": [
    "## Returns and Annulization\n",
    "Convert price data in returns. Then, calculate simple returns (percentage changes), then annualize both expected returns and covariance matrix by multiplying by annualization factor"
   ]
  },
  {
   "cell_type": "code",
   "execution_count": 5,
   "id": "829318c9",
   "metadata": {},
   "outputs": [
    {
     "name": "stdout",
     "output_type": "stream",
     "text": [
      "Returns shape: (59, 8)\n",
      "Date range: 2020-12-01 to 2025-10-01\n",
      "Annualization factor: 12\n",
      "\n",
      "Expected returns shape: (8,)\n",
      "Covariance matrix shape: (8, 8)\n",
      "\n",
      "Annualized Expected Returns (%):\n",
      "Ticker\n",
      "AAPL     19.85\n",
      "AMZN     11.57\n",
      "BRK-B    17.41\n",
      "GOOGL    25.38\n",
      "META     28.66\n",
      "MSFT     21.30\n",
      "NVDA     66.58\n",
      "TSLA     35.34\n",
      "dtype: float64\n",
      "\n",
      "Annualized Volatilities (%):\n",
      "[24.99 30.8  18.72 27.05 40.94 22.25 50.78 61.06]\n",
      "\n",
      "Minimum eigenvalue: 1.76e-02\n",
      "Covariance matrix is positive semi-definite ✓\n"
     ]
    }
   ],
   "source": [
    "# Returns & Annualization\n",
    "def calculate_returns(prices):\n",
    "    \"\"\"Calculate simple returns from price data\"\"\"\n",
    "    return prices.pct_change().dropna()\n",
    "\n",
    "# Calculate returns\n",
    "R = calculate_returns(prices)\n",
    "print(f\"Returns shape: {R.shape}\")  \n",
    "print(f\"Date range: {R.index[0].strftime('%Y-%m-%d')} to {R.index[-1].strftime('%Y-%m-%d')}\")\n",
    "\n",
    "# Annualization factor\n",
    "ann_factor = annualization_factor(CONFIG['FREQUENCY'])\n",
    "print(f\"Annualization factor: {ann_factor}\")\n",
    "\n",
    "# Calculate annualized expected returns and covariance matrix \n",
    "mu = R.mean() * ann_factor  # Annualized expected returns \n",
    "Sigma = R.cov() * ann_factor  # Annualized covariance matrix \n",
    "\n",
    "print(f\"\\nExpected returns shape: {mu.shape}\")\n",
    "print(f\"Covariance matrix shape: {Sigma.shape}\")  \n",
    "\n",
    "# Checkpoint: Display key statistics\n",
    "print(\"\\nAnnualized Expected Returns (%):\")\n",
    "print((mu * 100).round(2))\n",
    "print(\"\\nAnnualized Volatilities (%):\")\n",
    "print((np.sqrt(np.diag(Sigma)) * 100).round(2))  \n",
    "\n",
    "# Verify covariance matrix is positive semi-definite\n",
    "eigenvals = np.linalg.eigvals(Sigma)  \n",
    "min_eigenval = np.min(eigenvals)\n",
    "print(f\"\\nMinimum eigenvalue: {min_eigenval:.2e}\")\n",
    "if min_eigenval < -1e-8:\n",
    "    print(\"WARNING: Covariance matrix not positive semi-definite!\")\n",
    "    # Add small ridge to make it PSD\n",
    "    Sigma = Sigma + 1e-8 * np.eye(Sigma.shape[0])  \n",
    "    print(\"Added ridge regularization (1e-8)\")\n",
    "else:\n",
    "    print(\"Covariance matrix is positive semi-definite ✓\")"
   ]
  },
  {
   "cell_type": "markdown",
   "id": "81611484",
   "metadata": {},
   "source": [
    "## Markowitz Efficient Frontier"
   ]
  },
  {
   "cell_type": "markdown",
   "id": "4cb99da3",
   "metadata": {},
   "source": [
    "### Function defintion"
   ]
  },
  {
   "cell_type": "code",
   "execution_count": 6,
   "id": "eb292675",
   "metadata": {},
   "outputs": [],
   "source": [
    "# Markowitz Efficient Frontier \n",
    "def markowitz_optimize(mu, Sigma, target_return, allow_shorts=False):\n",
    "    \"\"\"\n",
    "    Minimize portfolio variance for a given target return\n",
    "    This is the core of Markowitz mean-variance optimization\n",
    "    Returns: (weights, portfolio_return, portfolio_vol, sharpe_ratio)\n",
    "    \"\"\"\n",
    "    n = len(mu) # Number of assets\n",
    "\n",
    "    # Objective function: portfolio variance (what we want to minimize)\n",
    "    def objective(w):\n",
    "        return w.T @ Sigma @ w # w^T @ Sigma * w (matrix multiplication for variance) \n",
    "    \n",
    "    # Constraints: weights must sum to 1 AND achiece target return\n",
    "    constraints = [\n",
    "        {'type': 'eq', 'fun': lambda w: np.sum(w) - 1},  # weights sum to 1\n",
    "        {'type': 'eq', 'fun': lambda w: w.T @ mu - target_return}  # target return achieved\n",
    "    ]\n",
    "\n",
    "    # Bounds: can short sell or no? \n",
    "    if allow_shorts:\n",
    "        bounds = [(-1, 1) for _ in range(n)] # Allow short positions up to 100% \n",
    "    else:\n",
    "        bounds = [(0, 1) for _ in range(n)] # Long-only (no shorting)\n",
    "\n",
    "    # Initial guess: start with equal weights\n",
    "    x0 = np.ones(n) / n\n",
    "\n",
    "    # Optimize using Sequential Least Squares Programming \n",
    "    result = minimize(objective, x0, method='SLSQP', bounds=bounds, constraints=constraints)\n",
    "\n",
    "    # Check if optimization succeeded\n",
    "    if not result.success:\n",
    "        return None, None, None, None\n",
    "    \n",
    "    # Extract results\n",
    "    weights = result.x\n",
    "    portfolio_return = weights.T @ mu # Expected return \n",
    "    portfolio_vol = np.sqrt(weights.T @ Sigma @ weights) # Standard deviation\n",
    "    sharpe_ratio = (portfolio_return - CONFIG['RF_ANNUAL']) / portfolio_vol # Risk-adjusted return\n",
    "\n",
    "    return weights, portfolio_return, portfolio_vol, sharpe_ratio\n",
    "\n",
    "    "
   ]
  },
  {
   "cell_type": "markdown",
   "id": "b7991e50",
   "metadata": {},
   "source": [
    "### Frontier Generation"
   ]
  },
  {
   "cell_type": "code",
   "execution_count": 8,
   "id": "c6be233b",
   "metadata": {},
   "outputs": [
    {
     "name": "stdout",
     "output_type": "stream",
     "text": [
      "Target return range: 0.1157 to 0.6658\n",
      "Generated 50 frontier points\n",
      "Return range: 0.1157 to 0.6658\n",
      "Volatility range: 0.1547 to 0.5078\n",
      "Sharpe range: 0.2418 to 1.2926\n"
     ]
    }
   ],
   "source": [
    "# Generaste efficient frontier\n",
    "print(f\"Target return range: {mu.min():.4f} to {mu.max():.4f}\")\n",
    "\n",
    "# Creata target returns from min to max with 50 points\n",
    "# Gives smooth cruve on the frontier\n",
    "target_returns = np.linspace(mu.min(), mu.max(), 50)\n",
    "\n",
    "# Store frontier results \n",
    "frontier_results =[] \n",
    "\n",
    "# For each target return, find minimum variance portfolio\n",
    "for target_ret in target_returns:\n",
    "    weights, port_ret, port_vol, sharpe = markowitz_optimize(\n",
    "        mu, Sigma, target_ret, CONFIG['ALLOW_SHORTS']\n",
    "    )\n",
    "\n",
    "    # Only keep succesful optimizations \n",
    "    if weights is not None: \n",
    "        frontier_results.append({\n",
    "            'target_return': target_ret,\n",
    "            'portfolio_return': port_ret,\n",
    "            'portfolio_vol': port_vol,\n",
    "            'sharpe_ratio': sharpe,\n",
    "            'weights': weights.copy() # Store weights for later analysis\n",
    "        })\n",
    "\n",
    "print(f\"Generated {len(frontier_results)} frontier points\")\n",
    "\n",
    "# Convert to Dataframe for easier analysis\n",
    "frontier_df = pd.DataFrame(frontier_results)\n",
    "print(f\"Return range: {frontier_df['portfolio_return'].min():.4f} to {frontier_df['portfolio_return'].max():.4f}\")\n",
    "print(f\"Volatility range: {frontier_df['portfolio_vol'].min():.4f} to {frontier_df['portfolio_vol'].max():.4f}\")\n",
    "print(f\"Sharpe range: {frontier_df['sharpe_ratio'].min():.4f} to {frontier_df['sharpe_ratio'].max():.4f}\")"
   ]
  },
  {
   "cell_type": "markdown",
   "id": "17866026",
   "metadata": {},
   "source": [
    "## Sharpe Ratio Maximization (Tangency Portfolio)"
   ]
  },
  {
   "cell_type": "markdown",
   "id": "5b8b8211",
   "metadata": {},
   "source": [
    "### Function definition"
   ]
  },
  {
   "cell_type": "code",
   "execution_count": 9,
   "id": "78cd84b7",
   "metadata": {},
   "outputs": [],
   "source": [
    "# Sharpe Ratio Maximiation \n",
    "def maximize_sharpe(mu, Sigma, rf_rate, allow_shorts=False):\n",
    "    \"\"\"\n",
    "    Maximize Sharpe ratio to find tangency portfolio\n",
    "    This finds the portfolio with the highest risk-adjusted returns\n",
    "    Returns: (weights, portfolio_return, portfolio_vol, sharpe_ratio)\n",
    "    \"\"\"\n",
    "    n = len(mu) # Num of assets\n",
    "\n",
    "    # Objective function: negative Sharpe ratio (minimize to maximize)\n",
    "    def objective(w):\n",
    "        portfolio_return = w.T @ mu # expected retunr\n",
    "        portfolio_vol = np.sqrt(w.T @ Sigma @ w) # Standard deviation\n",
    "        sharpe = (portfolio_return - rf_rate) / portfolio_vol # Sharpe ratio \n",
    "        return -sharpe # Negative to minimize \n",
    "    \n",
    "    # Constraaints: weights must sum to 1 \n",
    "    constraints = [\n",
    "        {'type': 'eq', 'fun': lambda w: np.sum(w) - 1}  # weights sum to 1\n",
    "    ]\n",
    "\n",
    "    # Bounds: sell or no? \n",
    "    if allow_shorts:\n",
    "        bounds = [(-1, 1) for _ in range(n)]  # Allow short positions\n",
    "    else:\n",
    "        bounds = [(0, 1) for _ in range(n)]  # Long-\n",
    "        \n",
    "    # Initial guess: start with equal weights\n",
    "    x0 = np.ones(n) / n\n",
    "\n",
    "     # Optimize using Sequential Least Squares Programming\n",
    "    result = minimize(objective, x0, method='SLSQP', bounds=bounds, constraints=constraints)\n",
    "\n",
    "    # Check if optimization succeeded\n",
    "    if not result.success:\n",
    "        return None, None, None, None\n",
    "    \n",
    "    # Extract results\n",
    "    weights = result.x\n",
    "    portfolio_return = weights.T @ mu # Expected return \n",
    "    portfolio_vol = np.sqrt(weights.T @ Sigma @ weights) # Standard deviation\n",
    "    sharpe_ratio = (portfolio_return - rf_rate / portfolio_vol) # Risk-adjusted return \n",
    "\n",
    "    return weights, portfolio_return, portfolio_vol, sharpe_ratio\n",
    "    "
   ]
  },
  {
   "cell_type": "markdown",
   "id": "f0b94b21",
   "metadata": {},
   "source": [
    "### Tangency Portfolio "
   ]
  },
  {
   "cell_type": "code",
   "execution_count": 11,
   "id": "cefb2cd3",
   "metadata": {},
   "outputs": [
    {
     "name": "stdout",
     "output_type": "stream",
     "text": [
      "\n",
      "Tangency Portfolio Results:\n",
      "Return: 0.3920 (39.20%)\n",
      "Volatility: 0.2714 (27.14%)\n",
      "Sharpe Ratio: 0.2402\n",
      "\n",
      "Weights sum: 1.000000\n"
     ]
    }
   ],
   "source": [
    "# Find tangency portfolio (Max Sharpe)\n",
    "tangency_weights, tangency_return, tangency_vol, tangency_sharpe = maximize_sharpe(\n",
    "    mu, Sigma, CONFIG['RF_ANNUAL'], CONFIG['ALLOW_SHORTS']\n",
    ")\n",
    "\n",
    "if tangency_weights is not None: \n",
    "    print(f\"\\nTangency Portfolio Results:\")\n",
    "    print(f\"Return: {tangency_return:.4f} ({tangency_return*100:.2f}%)\")\n",
    "    print(f\"Volatility: {tangency_vol:.4f} ({tangency_vol*100:.2f}%)\")\n",
    "    print(f\"Sharpe Ratio: {tangency_sharpe:.4f}\")\n",
    "    print(f\"\\nWeights sum: {np.sum(tangency_weights):.6f}\")\n",
    "else:\n",
    "    print(\"Failed to find tangency portfolio\")"
   ]
  },
  {
   "cell_type": "code",
   "execution_count": null,
   "id": "fb020077",
   "metadata": {},
   "outputs": [],
   "source": []
  }
 ],
 "metadata": {
  "kernelspec": {
   "display_name": ".venv",
   "language": "python",
   "name": "python3"
  },
  "language_info": {
   "codemirror_mode": {
    "name": "ipython",
    "version": 3
   },
   "file_extension": ".py",
   "mimetype": "text/x-python",
   "name": "python",
   "nbconvert_exporter": "python",
   "pygments_lexer": "ipython3",
   "version": "3.14.0"
  }
 },
 "nbformat": 4,
 "nbformat_minor": 5
}
