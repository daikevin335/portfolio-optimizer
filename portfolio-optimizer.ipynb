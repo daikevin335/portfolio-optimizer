{
 "cells": [
  {
   "cell_type": "markdown",
   "id": "038f4e8e",
   "metadata": {},
   "source": [
    "# Portfolio Optimization \n",
    "\n",
    "## Config & Imports\n",
    "Set up configuration parameters amd imports neccessary libaries. \n",
    "The configuration defines stocks that will be analyzed, the time period, and key parameters like the risk-free rate. "
   ]
  },
  {
   "cell_type": "code",
   "execution_count": 18,
   "id": "0f8f8713",
   "metadata": {},
   "outputs": [
    {
     "name": "stdout",
     "output_type": "stream",
     "text": [
      "Current Configuration:\n",
      "  TICKERS: ['AAPL', 'MSFT', 'GOOGL', 'AMZN', 'TSLA', 'META', 'NVDA', 'BRK-B']\n",
      "  START_DATE: 2020-10-23 13:45:14.848788\n",
      "  END_DATE: 2025-10-22 13:45:14.848812\n",
      "  INTERVAL: 1mo\n",
      "  RF_ANNUAL: 0.0412\n",
      "  ALLOW_SHORTS: False\n",
      "  FREQUENCY: monthly\n",
      "\n",
      "Annualization factor: 12\n",
      "Date range: 2020-10-23 to 2025-10-22\n",
      "Risk-free rate: 0.0412 (4.12%)\n"
     ]
    },
    {
     "name": "stderr",
     "output_type": "stream",
     "text": [
      "/var/folders/q3/lqkxfhqd69scqh0r94mkbdm00000gn/T/ipykernel_61612/1437235916.py:39: FutureWarning: Series.__getitem__ treating keys as positions is deprecated. In a future version, integer keys will always be treated as labels (consistent with DataFrame behavior). To access a value by position, use `ser.iloc[pos]`\n",
      "  rf_rate = ten_year_treasury_rate[-1] # Convert to decimal\n"
     ]
    }
   ],
   "source": [
    "# Import required libraries \n",
    "import numpy as np\n",
    "import pandas as pd\n",
    "import yfinance as yf\n",
    "from datetime import datetime, timedelta\n",
    "from scipy.optimize import minimize\n",
    "import matplotlib.pyplot as plt\n",
    "from fredapi import Fred\n",
    "\n",
    "# Configuration\n",
    "CONFIG = {\n",
    "    'TICKERS': ['AAPL', 'MSFT', 'GOOGL', 'AMZN', 'TSLA', 'META', 'NVDA', 'BRK-B'],\n",
    "    'START_DATE': datetime.now() - timedelta(days=5*365),  # 5 years ago\n",
    "    'END_DATE': datetime.now(),  # Today\n",
    "    'INTERVAL': '1mo',  # Monthly data\n",
    "    'RF_ANNUAL': None,  # Will fetch from FRED\n",
    "    'ALLOW_SHORTS': False,  # Long-only portfolios\n",
    "    'FREQUENCY': 'monthly',\n",
    "    'FRED_API_KEY': '80d939285a25091784ba2f5be77fa106'\n",
    "}\n",
    "\n",
    "def annualization_factor(freq): \n",
    "   # Convert frequency to annulization factor \n",
    "   if freq == 'daily':\n",
    "      return 252\n",
    "   elif freq == 'weekly':\n",
    "      return 52\n",
    "   elif freq == 'monthly':\n",
    "      return 12\n",
    "   else: \n",
    "      raise ValueError(f\"Unsupported frequency: {freq}\")\n",
    "\n",
    "# Set risk-free rate \n",
    "def get_rf_rate():\n",
    "   # Fetch curent risk-free rate from FRED\n",
    "   fred = Fred(api_key = '80d939285a25091784ba2f5be77fa106')\n",
    "   ten_year_treasury_rate = fred.get_series('GS10') / 100\n",
    "   # Get 10-year Treasury Constant Maturity Rate (most recent)\n",
    "   rf_rate = ten_year_treasury_rate[-1] # Convert to decimal \n",
    "   return rf_rate\n",
    "\n",
    "# Fetch risk-free rate\n",
    "CONFIG['RF_ANNUAL'] = get_rf_rate()\n",
    "\n",
    "# Checkpoint: Print configuration \n",
    "print(\"Current Configuration:\")\n",
    "for key, value in CONFIG.items():\n",
    "   if key!= 'FRED_API_KEY': # Don't print API key\n",
    "      print(f\"  {key}: {value}\")\n",
    "print(f\"\\nAnnualization factor: {annualization_factor(CONFIG['FREQUENCY'])}\")\n",
    "print(f\"Date range: {CONFIG['START_DATE'].strftime('%Y-%m-%d')} to {CONFIG['END_DATE'].strftime('%Y-%m-%d')}\")\n",
    "print(f\"Risk-free rate: {CONFIG['RF_ANNUAL']:.4f} ({CONFIG['RF_ANNUAL']*100:.2f}%)\")\n",
    "      \n"
   ]
  },
  {
   "cell_type": "markdown",
   "id": "deefa8d2",
   "metadata": {},
   "source": [
    "## Data Import (yfinance)\n",
    "Fetch actual stock price data from yfinance. \n",
    "Will need to adjust closing prices for all tickers over the 5-year period, then clean data by forward-filling any missing values and dropping any remaining NaNs. "
   ]
  },
  {
   "cell_type": "code",
   "execution_count": 19,
   "id": "e09e2663",
   "metadata": {},
   "outputs": [
    {
     "name": "stderr",
     "output_type": "stream",
     "text": [
      "/var/folders/q3/lqkxfhqd69scqh0r94mkbdm00000gn/T/ipykernel_61612/3371259864.py:6: FutureWarning: YF.download() has changed argument auto_adjust default to True\n",
      "  prices = yf.download(tickers, start=start_date, end=end_date,\n"
     ]
    },
    {
     "name": "stdout",
     "output_type": "stream",
     "text": [
      "Fetching data for 8 tickers...\n",
      "\n",
      "Data shape: (60, 8)\n",
      "Date range: 2020-11-01 to 2025-10-01\n",
      "Number of observations: 60\n",
      "Number of assets: 8\n",
      "\n",
      "First few rows:\n",
      "Ticker            AAPL        AMZN       BRK-B       GOOGL        META  \\\n",
      "Date                                                                     \n",
      "2020-11-01  115.802055  158.401993  228.910004   87.119141  275.273010   \n",
      "2020-12-01  129.292587  162.846497  231.869995   87.031738  271.486389   \n",
      "2021-01-01  128.581284  160.309998  227.869995   90.742142  256.747223   \n",
      "2021-02-01  118.155251  154.646500  240.509995  100.403008  256.041534   \n",
      "2021-03-01  119.200340  154.703995  255.470001  102.419609  292.725464   \n",
      "\n",
      "Ticker            MSFT       NVDA        TSLA  \n",
      "Date                                           \n",
      "2020-11-01  205.255798  13.360716  189.199997  \n",
      "2020-12-01  213.820282  13.015271  235.223328  \n",
      "2021-01-01  222.991409  12.954044  264.510010  \n",
      "2021-02-01  223.395203  13.676802  225.166672  \n",
      "2021-03-01  227.176132  13.311559  222.643326  \n"
     ]
    }
   ],
   "source": [
    "# Data import \n",
    "def fetch_prices(tickers, start_date, end_date, interval):\n",
    "    # Fetch adjusted closing prices for given tickers\n",
    "    # Returns: DataFrame with forward-filled, cleaned price data\n",
    "    print(f\"Fetching data for {len(tickers)} tickers...\")\n",
    "    prices = yf.download(tickers, start=start_date, end=end_date, \n",
    "                        interval=interval, progress=False)\n",
    "    \n",
    "    # Handle multi-level columns - get Close prices \n",
    "    if prices.columns.nlevels > 1:\n",
    "        prices = prices['Close']  # Using Close since Adj Close not available for monthly\n",
    "    else:\n",
    "        # Single level columns - prices should already be Close\n",
    "        pass\n",
    "    \n",
    "    # Forward-fill missing values, then drop any remaining NaNs (updated syntax)\n",
    "    prices = prices.ffill().dropna()\n",
    "    \n",
    "    return prices\n",
    "\n",
    "# Fetch the price data\n",
    "prices = fetch_prices(CONFIG['TICKERS'], CONFIG['START_DATE'], \n",
    "                     CONFIG['END_DATE'], CONFIG['INTERVAL'])\n",
    "\n",
    "# Checkpoint: verify data quality \n",
    "print(f\"\\nData shape: {prices.shape}\")\n",
    "print(f\"Date range: {prices.index[0].strftime('%Y-%m-%d')} to {prices.index[-1].strftime('%Y-%m-%d')}\")\n",
    "print(f\"Number of observations: {len(prices)}\")\n",
    "print(f\"Number of assets: {prices.shape[1]}\")\n",
    "print(\"\\nFirst few rows:\")\n",
    "print(prices.head())\n",
    "assert prices.isnull().sum().sum() == 0, \"Should have no missing values after cleaning\""
   ]
  },
  {
   "cell_type": "markdown",
   "id": "cff9acb8",
   "metadata": {},
   "source": [
    "## Returns and Annulization\n",
    "Convert price data in returns. Then, calculate simple returns (percentage changes), then annualize both expected returns and covariance matrix by multiplying by annualization factor"
   ]
  },
  {
   "cell_type": "code",
   "execution_count": 20,
   "id": "829318c9",
   "metadata": {},
   "outputs": [
    {
     "name": "stdout",
     "output_type": "stream",
     "text": [
      "Returns shape: (59, 8)\n",
      "Date range: 2020-12-01 to 2025-10-01\n",
      "Annualization factor: 12\n",
      "\n",
      "Expected returns shape: (8,)\n",
      "Covariance matrix shape: (8, 8)\n",
      "\n",
      "Annualized Expected Returns (%):\n",
      "Ticker\n",
      "AAPL     19.25\n",
      "AMZN     11.04\n",
      "BRK-B    17.27\n",
      "GOOGL    25.30\n",
      "META     28.44\n",
      "MSFT     21.38\n",
      "NVDA     66.16\n",
      "TSLA     34.60\n",
      "dtype: float64\n",
      "\n",
      "Annualized Volatilities (%):\n",
      "[24.98 30.81 18.75 27.05 40.95 22.25 50.86 61.11]\n",
      "\n",
      "Minimum eigenvalue: 1.75e-02\n",
      "Covariance matrix is positive semi-definite ✓\n"
     ]
    }
   ],
   "source": [
    "# Returns & Annualization\n",
    "def calculate_returns(prices):\n",
    "    \"\"\"Calculate simple returns from price data\"\"\"\n",
    "    return prices.pct_change().dropna()\n",
    "\n",
    "# Calculate returns\n",
    "R = calculate_returns(prices)\n",
    "print(f\"Returns shape: {R.shape}\")  \n",
    "print(f\"Date range: {R.index[0].strftime('%Y-%m-%d')} to {R.index[-1].strftime('%Y-%m-%d')}\")\n",
    "\n",
    "# Annualization factor\n",
    "ann_factor = annualization_factor(CONFIG['FREQUENCY'])\n",
    "print(f\"Annualization factor: {ann_factor}\")\n",
    "\n",
    "# Calculate annualized expected returns and covariance matrix \n",
    "mu = R.mean() * ann_factor  # Annualized expected returns \n",
    "Sigma = R.cov() * ann_factor  # Annualized covariance matrix \n",
    "\n",
    "print(f\"\\nExpected returns shape: {mu.shape}\")\n",
    "print(f\"Covariance matrix shape: {Sigma.shape}\")  \n",
    "\n",
    "# Checkpoint: Display key statistics\n",
    "print(\"\\nAnnualized Expected Returns (%):\")\n",
    "print((mu * 100).round(2))\n",
    "print(\"\\nAnnualized Volatilities (%):\")\n",
    "print((np.sqrt(np.diag(Sigma)) * 100).round(2))  \n",
    "\n",
    "# Verify covariance matrix is positive semi-definite\n",
    "eigenvals = np.linalg.eigvals(Sigma)  \n",
    "min_eigenval = np.min(eigenvals)\n",
    "print(f\"\\nMinimum eigenvalue: {min_eigenval:.2e}\")\n",
    "if min_eigenval < -1e-8:\n",
    "    print(\"WARNING: Covariance matrix not positive semi-definite!\")\n",
    "    # Add small ridge to make it PSD\n",
    "    Sigma = Sigma + 1e-8 * np.eye(Sigma.shape[0])  \n",
    "    print(\"Added ridge regularization (1e-8)\")\n",
    "else:\n",
    "    print(\"Covariance matrix is positive semi-definite ✓\")"
   ]
  },
  {
   "cell_type": "markdown",
   "id": "81611484",
   "metadata": {},
   "source": [
    "## Markowitz Efficient Frontier"
   ]
  },
  {
   "cell_type": "markdown",
   "id": "4cb99da3",
   "metadata": {},
   "source": [
    "### Function defintion"
   ]
  },
  {
   "cell_type": "code",
   "execution_count": 21,
   "id": "eb292675",
   "metadata": {},
   "outputs": [],
   "source": [
    "# Markowitz Efficient Frontier \n",
    "def markowitz_optimize(mu, Sigma, target_return, allow_shorts=False):\n",
    "    \"\"\"\n",
    "    Minimize portfolio variance for a given target return\n",
    "    This is the core of Markowitz mean-variance optimization\n",
    "    Returns: (weights, portfolio_return, portfolio_vol, sharpe_ratio)\n",
    "    \"\"\"\n",
    "    n = len(mu) # Number of assets\n",
    "\n",
    "    # Objective function: portfolio variance (what we want to minimize)\n",
    "    def objective(w):\n",
    "        return w.T @ Sigma @ w # w^T @ Sigma * w (matrix multiplication for variance) \n",
    "    \n",
    "    # Constraints: weights must sum to 1 AND achiece target return\n",
    "    constraints = [\n",
    "        {'type': 'eq', 'fun': lambda w: np.sum(w) - 1},  # weights sum to 1\n",
    "        {'type': 'eq', 'fun': lambda w: w.T @ mu - target_return}  # target return achieved\n",
    "    ]\n",
    "\n",
    "    # Bounds: can short sell or no? \n",
    "    if allow_shorts:\n",
    "        bounds = [(-1, 1) for _ in range(n)] # Allow short positions up to 100% \n",
    "    else:\n",
    "        bounds = [(0, 1) for _ in range(n)] # Long-only (no shorting)\n",
    "\n",
    "    # Initial guess: start with equal weights\n",
    "    x0 = np.ones(n) / n\n",
    "\n",
    "    # Optimize using Sequential Least Squares Programming \n",
    "    result = minimize(objective, x0, method='SLSQP', bounds=bounds, constraints=constraints)\n",
    "\n",
    "    # Check if optimization succeeded\n",
    "    if not result.success:\n",
    "        return None, None, None, None\n",
    "    \n",
    "    # Extract results\n",
    "    weights = result.x\n",
    "    portfolio_return = weights.T @ mu # Expected return \n",
    "    portfolio_vol = np.sqrt(weights.T @ Sigma @ weights) # Standard deviation\n",
    "    sharpe_ratio = (portfolio_return - CONFIG['RF_ANNUAL']) / portfolio_vol # Risk-adjusted return\n",
    "\n",
    "    return weights, portfolio_return, portfolio_vol, sharpe_ratio\n",
    "\n",
    "    "
   ]
  },
  {
   "cell_type": "markdown",
   "id": "b7991e50",
   "metadata": {},
   "source": [
    "### Frontier Generation"
   ]
  },
  {
   "cell_type": "code",
   "execution_count": 22,
   "id": "c6be233b",
   "metadata": {},
   "outputs": [
    {
     "name": "stdout",
     "output_type": "stream",
     "text": [
      "Target return range: 0.1104 to 0.6616\n",
      "Generated 50 frontier points\n",
      "Return range: 0.1104 to 0.6616\n",
      "Volatility range: 0.1557 to 0.5086\n",
      "Sharpe range: 0.2246 to 1.2811\n"
     ]
    }
   ],
   "source": [
    "# Generaste efficient frontier\n",
    "print(f\"Target return range: {mu.min():.4f} to {mu.max():.4f}\")\n",
    "\n",
    "# Creata target returns from min to max with 50 points\n",
    "# Gives smooth cruve on the frontier\n",
    "target_returns = np.linspace(mu.min(), mu.max(), 50)\n",
    "\n",
    "# Store frontier results \n",
    "frontier_results =[] \n",
    "\n",
    "# For each target return, find minimum variance portfolio\n",
    "for target_ret in target_returns:\n",
    "    weights, port_ret, port_vol, sharpe = markowitz_optimize(\n",
    "        mu, Sigma, target_ret, CONFIG['ALLOW_SHORTS']\n",
    "    )\n",
    "\n",
    "    # Only keep succesful optimizations \n",
    "    if weights is not None: \n",
    "        frontier_results.append({\n",
    "            'target_return': target_ret,\n",
    "            'portfolio_return': port_ret,\n",
    "            'portfolio_vol': port_vol,\n",
    "            'sharpe_ratio': sharpe,\n",
    "            'weights': weights.copy() # Store weights for later analysis\n",
    "        })\n",
    "\n",
    "print(f\"Generated {len(frontier_results)} frontier points\")\n",
    "\n",
    "# Convert to Dataframe for easier analysis\n",
    "frontier_df = pd.DataFrame(frontier_results)\n",
    "print(f\"Return range: {frontier_df['portfolio_return'].min():.4f} to {frontier_df['portfolio_return'].max():.4f}\")\n",
    "print(f\"Volatility range: {frontier_df['portfolio_vol'].min():.4f} to {frontier_df['portfolio_vol'].max():.4f}\")\n",
    "print(f\"Sharpe range: {frontier_df['sharpe_ratio'].min():.4f} to {frontier_df['sharpe_ratio'].max():.4f}\")"
   ]
  },
  {
   "cell_type": "markdown",
   "id": "17866026",
   "metadata": {},
   "source": [
    "## Sharpe Ratio Maximization (Tangency Portfolio)"
   ]
  },
  {
   "cell_type": "markdown",
   "id": "5b8b8211",
   "metadata": {},
   "source": [
    "### Function definition"
   ]
  },
  {
   "cell_type": "code",
   "execution_count": 23,
   "id": "78cd84b7",
   "metadata": {},
   "outputs": [],
   "source": [
    "# Sharpe Ratio Maximiation \n",
    "def maximize_sharpe(mu, Sigma, rf_rate, allow_shorts=False):\n",
    "    \"\"\"\n",
    "    Maximize Sharpe ratio to find tangency portfolio\n",
    "    This finds the portfolio with the highest risk-adjusted returns\n",
    "    Returns: (weights, portfolio_return, portfolio_vol, sharpe_ratio)\n",
    "    \"\"\"\n",
    "    n = len(mu) # Num of assets\n",
    "\n",
    "    # Objective function: negative Sharpe ratio (minimize to maximize)\n",
    "    def objective(w):\n",
    "        portfolio_return = w.T @ mu # expected retunr\n",
    "        portfolio_vol = np.sqrt(w.T @ Sigma @ w) # Standard deviation\n",
    "        sharpe = (portfolio_return - rf_rate) / portfolio_vol # Sharpe ratio \n",
    "        return -sharpe # Negative to minimize \n",
    "    \n",
    "    # Constraaints: weights must sum to 1 \n",
    "    constraints = [\n",
    "        {'type': 'eq', 'fun': lambda w: np.sum(w) - 1}  # weights sum to 1\n",
    "    ]\n",
    "\n",
    "    # Bounds: sell or no? \n",
    "    if allow_shorts:\n",
    "        bounds = [(-1, 1) for _ in range(n)]  # Allow short positions\n",
    "    else:\n",
    "        bounds = [(0, 1) for _ in range(n)]  # Long-\n",
    "        \n",
    "    # Initial guess: start with equal weights\n",
    "    x0 = np.ones(n) / n\n",
    "\n",
    "     # Optimize using Sequential Least Squares Programming\n",
    "    result = minimize(objective, x0, method='SLSQP', bounds=bounds, constraints=constraints)\n",
    "\n",
    "    # Check if optimization succeeded\n",
    "    if not result.success:\n",
    "        return None, None, None, None\n",
    "    \n",
    "    # Extract results\n",
    "    weights = result.x\n",
    "    portfolio_return = weights.T @ mu # Expected return \n",
    "    portfolio_vol = np.sqrt(weights.T @ Sigma @ weights) # Standard deviation\n",
    "    sharpe_ratio = (portfolio_return - rf_rate / portfolio_vol) # Risk-adjusted return \n",
    "\n",
    "    return weights, portfolio_return, portfolio_vol, sharpe_ratio\n",
    "    "
   ]
  },
  {
   "cell_type": "markdown",
   "id": "f0b94b21",
   "metadata": {},
   "source": [
    "### Tangency Portfolio "
   ]
  },
  {
   "cell_type": "code",
   "execution_count": 24,
   "id": "cefb2cd3",
   "metadata": {},
   "outputs": [
    {
     "name": "stdout",
     "output_type": "stream",
     "text": [
      "\n",
      "Tangency Portfolio Results:\n",
      "Return: 0.3898 (38.98%)\n",
      "Volatility: 0.2721 (27.21%)\n",
      "Sharpe Ratio: 0.2384\n",
      "\n",
      "Weights sum: 1.000000\n"
     ]
    }
   ],
   "source": [
    "# Find tangency portfolio (Max Sharpe)\n",
    "tangency_weights, tangency_return, tangency_vol, tangency_sharpe = maximize_sharpe(\n",
    "    mu, Sigma, CONFIG['RF_ANNUAL'], CONFIG['ALLOW_SHORTS']\n",
    ")\n",
    "\n",
    "if tangency_weights is not None: \n",
    "    print(f\"\\nTangency Portfolio Results:\")\n",
    "    print(f\"Return: {tangency_return:.4f} ({tangency_return*100:.2f}%)\")\n",
    "    print(f\"Volatility: {tangency_vol:.4f} ({tangency_vol*100:.2f}%)\")\n",
    "    print(f\"Sharpe Ratio: {tangency_sharpe:.4f}\")\n",
    "    print(f\"\\nWeights sum: {np.sum(tangency_weights):.6f}\")\n",
    "else:\n",
    "    print(\"Failed to find tangency portfolio\")"
   ]
  },
  {
   "cell_type": "markdown",
   "id": "703ed6a4",
   "metadata": {},
   "source": [
    "## Results (Frontier + Points + Weights)"
   ]
  },
  {
   "cell_type": "markdown",
   "id": "b0887488",
   "metadata": {},
   "source": [
    "### Calcualte reference portfolios "
   ]
  },
  {
   "cell_type": "code",
   "execution_count": 25,
   "id": "885a8c56",
   "metadata": {},
   "outputs": [
    {
     "name": "stdout",
     "output_type": "stream",
     "text": [
      "Equal-Weight Portfolio:\n",
      "  Return: 0.2793 (27.93%)\n",
      "  Volatility: 0.2490 (24.90%)\n",
      "  Sharpe: 0.9564\n"
     ]
    }
   ],
   "source": [
    "def equal_weight_portfolio(mu, Sigma):\n",
    "    \"\"\"Calculate equal-weight portfolio statistics\"\"\"\n",
    "    n = len(mu)\n",
    "    weights = np.ones(n) / n # Equal weights: 1/n for each asset\n",
    "    portfolio_return = weights.T @ mu \n",
    "    portfolio_vol = np.sqrt(weights.T @ Sigma @ weights)\n",
    "    sharpe_ratio = (portfolio_return - CONFIG['RF_ANNUAL']) / portfolio_vol \n",
    "    return weights, portfolio_return, portfolio_vol, sharpe_ratio\n",
    "\n",
    "# Calculate equal-weight portfolio\n",
    "ew_weights, ew_return, ew_vol, ew_sharpe = equal_weight_portfolio(mu, Sigma)\n",
    "\n",
    "# Checkpoint \n",
    "print(f\"Equal-Weight Portfolio:\")\n",
    "print(f\"  Return: {ew_return:.4f} ({ew_return*100:.2f}%)\")\n",
    "print(f\"  Volatility: {ew_vol:.4f} ({ew_vol*100:.2f}%)\")\n",
    "print(f\"  Sharpe: {ew_sharpe:.4f}\")"
   ]
  },
  {
   "cell_type": "code",
   "execution_count": 26,
   "id": "392fe1c7",
   "metadata": {},
   "outputs": [
    {
     "data": {
      "image/png": "[encoded data removed]",
      "text/plain": [
       "<Figure size 1200x800 with 1 Axes>"
      ]
     },
     "metadata": {},
     "output_type": "display_data"
    }
   ],
   "source": [
    "plt.figure(figsize=(12,8))\n",
    "\n",
    "# Plot efficient frontier\n",
    "if len(frontier_df) > 0:\n",
    "    plt.plot(frontier_df['portfolio_vol'], frontier_df['portfolio_return'], 'b-', linewidth=2, label='Efficient Frontier', alpha=0.7)\n",
    "\n",
    "# Plot individual assets\n",
    "asset_vols = np.sqrt(np.diag(Sigma))\n",
    "plt.scatter(asset_vols, mu, color='gray', s=50, alpha=0.6, label='Individual Assets')\n",
    "\n",
    "# Plot key portfolios\n",
    "plt.scatter(ew_vol, ew_return, color='green', s=100, marker='o', label='Equal-Weight',edgecolors='black', linewidth=1)\n",
    "plt.scatter(tangency_vol, tangency_return, color='red', s=100, marker='s', label='Max Sharpe', edgecolors='Black', linewidth=1)\n",
    "\n",
    "plt.xlabel('Volatility')\n",
    "plt.ylabel('Expected Return')\n",
    "plt.title('Efficient Frontier with Key Portfolios')\n",
    "plt.legend()\n",
    "plt.grid(True, alpha=0.3)\n",
    "plt.show()"
   ]
  }
 ],
 "metadata": {
  "kernelspec": {
   "display_name": "Python 3.14 (portfolio-opt)",
   "language": "python",
   "name": "portfolio-opt"
  },
  "language_info": {
   "codemirror_mode": {
    "name": "ipython",
    "version": 3
   },
   "file_extension": ".py",
   "mimetype": "text/x-python",
   "name": "python",
   "nbconvert_exporter": "python",
   "pygments_lexer": "ipython3",
   "version": "3.14.0"
  }
 },
 "nbformat": 4,
 "nbformat_minor": 5
}
