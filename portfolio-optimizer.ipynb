{
 "cells": [
  {
   "cell_type": "markdown",
   "id": "038f4e8e",
   "metadata": {},
   "source": [
    "# Portfolio Optimization \n",
    "\n",
    "## Config & Imports\n",
    "- Sets up configuration parameters and imports required libraries\n",
    "- Defines tickers, date ranges, and optimization settings"
   ]
  },
  {
   "cell_type": "code",
   "execution_count": 93,
   "id": "0f8f8713",
   "metadata": {},
   "outputs": [
    {
     "name": "stdout",
     "output_type": "stream",
     "text": [
      "Current Configuration:\n",
      "  TICKERS: ['AAPL', 'MSFT', 'GOOGL', 'AMZN', 'TSLA', 'META', 'NVDA', 'BRK-B']\n",
      "  START_DATE: 2020-10-24 01:18:44.903518\n",
      "  END_DATE: 2025-10-23 01:18:44.903538\n",
      "  INTERVAL: 1mo\n",
      "  RF_ANNUAL: 0.0412\n",
      "  ALLOW_SHORTS: False\n",
      "  FREQUENCY: monthly\n",
      "\n",
      "Annualization factor: 12\n",
      "Date range: 2020-10-24 to 2025-10-23\n",
      "Risk-free rate: 0.0412 (4.12%)\n"
     ]
    },
    {
     "name": "stderr",
     "output_type": "stream",
     "text": [
      "/var/folders/q3/lqkxfhqd69scqh0r94mkbdm00000gn/T/ipykernel_68061/1437235916.py:39: FutureWarning: Series.__getitem__ treating keys as positions is deprecated. In a future version, integer keys will always be treated as labels (consistent with DataFrame behavior). To access a value by position, use `ser.iloc[pos]`\n",
      "  rf_rate = ten_year_treasury_rate[-1] # Convert to decimal\n"
     ]
    }
   ],
   "source": [
    "# Import required libraries \n",
    "import numpy as np\n",
    "import pandas as pd\n",
    "import yfinance as yf\n",
    "from datetime import datetime, timedelta\n",
    "from scipy.optimize import minimize\n",
    "import matplotlib.pyplot as plt\n",
    "from fredapi import Fred\n",
    "\n",
    "# Configuration\n",
    "CONFIG = {\n",
    "    'TICKERS': ['AAPL', 'MSFT', 'GOOGL', 'AMZN', 'TSLA', 'META', 'NVDA', 'BRK-B'],\n",
    "    'START_DATE': datetime.now() - timedelta(days=5*365),  # 5 years ago\n",
    "    'END_DATE': datetime.now(),  # Today\n",
    "    'INTERVAL': '1mo',  # Monthly data\n",
    "    'RF_ANNUAL': None,  # Will fetch from FRED\n",
    "    'ALLOW_SHORTS': False,  # Long-only portfolios\n",
    "    'FREQUENCY': 'monthly',\n",
    "    'FRED_API_KEY': '80d939285a25091784ba2f5be77fa106'\n",
    "}\n",
    "\n",
    "def annualization_factor(freq): \n",
    "   # Convert frequency to annulization factor \n",
    "   if freq == 'daily':\n",
    "      return 252\n",
    "   elif freq == 'weekly':\n",
    "      return 52\n",
    "   elif freq == 'monthly':\n",
    "      return 12\n",
    "   else: \n",
    "      raise ValueError(f\"Unsupported frequency: {freq}\")\n",
    "\n",
    "# Set risk-free rate \n",
    "def get_rf_rate():\n",
    "   # Fetch curent risk-free rate from FRED\n",
    "   fred = Fred(api_key = '80d939285a25091784ba2f5be77fa106')\n",
    "   ten_year_treasury_rate = fred.get_series('GS10') / 100\n",
    "   # Get 10-year Treasury Constant Maturity Rate (most recent)\n",
    "   rf_rate = ten_year_treasury_rate[-1] # Convert to decimal \n",
    "   return rf_rate\n",
    "\n",
    "# Fetch risk-free rate\n",
    "CONFIG['RF_ANNUAL'] = get_rf_rate()\n",
    "\n",
    "# Checkpoint: Print configuration \n",
    "print(\"Current Configuration:\")\n",
    "for key, value in CONFIG.items():\n",
    "   if key!= 'FRED_API_KEY': # Don't print API key\n",
    "      print(f\"  {key}: {value}\")\n",
    "print(f\"\\nAnnualization factor: {annualization_factor(CONFIG['FREQUENCY'])}\")\n",
    "print(f\"Date range: {CONFIG['START_DATE'].strftime('%Y-%m-%d')} to {CONFIG['END_DATE'].strftime('%Y-%m-%d')}\")\n",
    "print(f\"Risk-free rate: {CONFIG['RF_ANNUAL']:.4f} ({CONFIG['RF_ANNUAL']*100:.2f}%)\")\n",
    "      \n"
   ]
  },
  {
   "cell_type": "markdown",
   "id": "deefa8d2",
   "metadata": {},
   "source": [
    "## Data Import (yfinance)\n",
    "- Fetches stock price data from Yahoo Finance\n",
    "- Cleans data by forward-filling missing values and dropping NaNs"
   ]
  },
  {
   "cell_type": "code",
   "execution_count": 94,
   "id": "e09e2663",
   "metadata": {},
   "outputs": [
    {
     "name": "stderr",
     "output_type": "stream",
     "text": [
      "/var/folders/q3/lqkxfhqd69scqh0r94mkbdm00000gn/T/ipykernel_68061/3371259864.py:6: FutureWarning: YF.download() has changed argument auto_adjust default to True\n",
      "  prices = yf.download(tickers, start=start_date, end=end_date,\n"
     ]
    },
    {
     "name": "stdout",
     "output_type": "stream",
     "text": [
      "Fetching data for 8 tickers...\n",
      "\n",
      "Data shape: (60, 8)\n",
      "Date range: 2020-11-01 to 2025-10-01\n",
      "Number of observations: 60\n",
      "Number of assets: 8\n",
      "\n",
      "First few rows:\n",
      "Ticker            AAPL        AMZN       BRK-B       GOOGL        META  \\\n",
      "Date                                                                     \n",
      "2020-11-01  115.802063  158.401993  228.910004   87.119118  275.273041   \n",
      "2020-12-01  129.292603  162.846497  231.869995   87.031746  271.486389   \n",
      "2021-01-01  128.581314  160.309998  227.869995   90.742126  256.747223   \n",
      "2021-02-01  118.155243  154.646500  240.509995  100.403000  256.041565   \n",
      "2021-03-01  119.200317  154.703995  255.470001  102.419601  292.725464   \n",
      "\n",
      "Ticker            MSFT       NVDA        TSLA  \n",
      "Date                                           \n",
      "2020-11-01  205.255753  13.360716  189.199997  \n",
      "2020-12-01  213.820312  13.015272  235.223328  \n",
      "2021-01-01  222.991425  12.954044  264.510010  \n",
      "2021-02-01  223.395203  13.676803  225.166672  \n",
      "2021-03-01  227.176147  13.311558  222.643326  \n"
     ]
    }
   ],
   "source": [
    "# Data import \n",
    "def fetch_prices(tickers, start_date, end_date, interval):\n",
    "    # Fetch adjusted closing prices for given tickers\n",
    "    # Returns: DataFrame with forward-filled, cleaned price data\n",
    "    print(f\"Fetching data for {len(tickers)} tickers...\")\n",
    "    prices = yf.download(tickers, start=start_date, end=end_date, \n",
    "                        interval=interval, progress=False)\n",
    "    \n",
    "    # Handle multi-level columns - get Close prices \n",
    "    if prices.columns.nlevels > 1:\n",
    "        prices = prices['Close']  # Using Close since Adj Close not available for monthly\n",
    "    else:\n",
    "        # Single level columns - prices should already be Close\n",
    "        pass\n",
    "    \n",
    "    # Forward-fill missing values, then drop any remaining NaNs (updated syntax)\n",
    "    prices = prices.ffill().dropna()\n",
    "    \n",
    "    return prices\n",
    "\n",
    "# Fetch the price data\n",
    "prices = fetch_prices(CONFIG['TICKERS'], CONFIG['START_DATE'], \n",
    "                     CONFIG['END_DATE'], CONFIG['INTERVAL'])\n",
    "\n",
    "# Checkpoint: verify data quality \n",
    "print(f\"\\nData shape: {prices.shape}\")\n",
    "print(f\"Date range: {prices.index[0].strftime('%Y-%m-%d')} to {prices.index[-1].strftime('%Y-%m-%d')}\")\n",
    "print(f\"Number of observations: {len(prices)}\")\n",
    "print(f\"Number of assets: {prices.shape[1]}\")\n",
    "print(\"\\nFirst few rows:\")\n",
    "print(prices.head())\n",
    "assert prices.isnull().sum().sum() == 0, \"Should have no missing values after cleaning\""
   ]
  },
  {
   "cell_type": "markdown",
   "id": "cff9acb8",
   "metadata": {},
   "source": [
    "## Returns and Annulization\n",
    "- Calculates simple returns from price data\n",
    "- Computes annualized expected returns and covariance matrix\n",
    "- Checks if covariance matrix is positive semi-definite"
   ]
  },
  {
   "cell_type": "code",
   "execution_count": 95,
   "id": "829318c9",
   "metadata": {},
   "outputs": [
    {
     "name": "stdout",
     "output_type": "stream",
     "text": [
      "Returns shape: (59, 8)\n",
      "Date range: 2020-12-01 to 2025-10-01\n",
      "Annualization factor: 12\n",
      "\n",
      "Expected returns shape: (8,)\n",
      "Covariance matrix shape: (8, 8)\n",
      "\n",
      "Annualized Expected Returns (%):\n",
      "Ticker\n",
      "AAPL     19.46\n",
      "AMZN     11.12\n",
      "BRK-B    17.38\n",
      "GOOGL    25.41\n",
      "META     28.68\n",
      "MSFT     21.45\n",
      "NVDA     66.47\n",
      "TSLA     34.95\n",
      "dtype: float64\n",
      "\n",
      "Annualized Volatilities (%):\n",
      "[24.97 30.81 18.73 27.05 40.94 22.24 50.8  61.08]\n",
      "\n",
      "Minimum eigenvalue: 1.75e-02\n",
      "Covariance matrix is positive semi-definite ✓\n"
     ]
    }
   ],
   "source": [
    "# Returns & Annualization\n",
    "def calculate_returns(prices):\n",
    "    \"\"\"Calculate simple returns from price data\"\"\"\n",
    "    return prices.pct_change().dropna()\n",
    "\n",
    "# Calculate returns\n",
    "R = calculate_returns(prices)\n",
    "print(f\"Returns shape: {R.shape}\")  \n",
    "print(f\"Date range: {R.index[0].strftime('%Y-%m-%d')} to {R.index[-1].strftime('%Y-%m-%d')}\")\n",
    "\n",
    "# Annualization factor\n",
    "ann_factor = annualization_factor(CONFIG['FREQUENCY'])\n",
    "print(f\"Annualization factor: {ann_factor}\")\n",
    "\n",
    "# Calculate annualized expected returns and covariance matrix \n",
    "mu = R.mean() * ann_factor  # Annualized expected returns \n",
    "Sigma = R.cov() * ann_factor  # Annualized covariance matrix \n",
    "\n",
    "print(f\"\\nExpected returns shape: {mu.shape}\")\n",
    "print(f\"Covariance matrix shape: {Sigma.shape}\")  \n",
    "\n",
    "# Checkpoint: Display key statistics\n",
    "print(\"\\nAnnualized Expected Returns (%):\")\n",
    "print((mu * 100).round(2))\n",
    "print(\"\\nAnnualized Volatilities (%):\")\n",
    "print((np.sqrt(np.diag(Sigma)) * 100).round(2))  \n",
    "\n",
    "# Verify covariance matrix is positive semi-definite\n",
    "eigenvals = np.linalg.eigvals(Sigma)  \n",
    "min_eigenval = np.min(eigenvals)\n",
    "print(f\"\\nMinimum eigenvalue: {min_eigenval:.2e}\")\n",
    "if min_eigenval < -1e-8:\n",
    "    print(\"WARNING: Covariance matrix not positive semi-definite!\")\n",
    "    # Add small ridge to make it PSD\n",
    "    Sigma = Sigma + 1e-8 * np.eye(Sigma.shape[0])  \n",
    "    print(\"Added ridge regularization (1e-8)\")\n",
    "else:\n",
    "    print(\"Covariance matrix is positive semi-definite ✓\")"
   ]
  },
  {
   "cell_type": "markdown",
   "id": "81611484",
   "metadata": {},
   "source": [
    "## Markowitz Efficient Frontier \n",
    "\n",
    "- Generates efficient frontier by sweeping target returns\n",
    "- For each target, finds minimum variance portfolio\n",
    "- Creates curve showing optimal risk-return combinations"
   ]
  },
  {
   "cell_type": "markdown",
   "id": "4cb99da3",
   "metadata": {},
   "source": [
    "### Function defintion"
   ]
  },
  {
   "cell_type": "code",
   "execution_count": 96,
   "id": "eb292675",
   "metadata": {},
   "outputs": [],
   "source": [
    "# Markowitz Efficient Frontier \n",
    "def markowitz_optimize(mu, Sigma, target_return, allow_shorts=False):\n",
    "    \"\"\"\n",
    "    Minimize portfolio variance for a given target return\n",
    "    This is the core of Markowitz mean-variance optimization\n",
    "    Returns: (weights, portfolio_return, portfolio_vol, sharpe_ratio)\n",
    "    \"\"\"\n",
    "    n = len(mu) # Number of assets\n",
    "\n",
    "    # Objective function: portfolio variance (what we want to minimize)\n",
    "    def objective(w):\n",
    "        return w.T @ Sigma @ w # w^T @ Sigma * w (matrix multiplication for variance) \n",
    "    \n",
    "    # Constraints: weights must sum to 1 AND achiece target return\n",
    "    constraints = [\n",
    "        {'type': 'eq', 'fun': lambda w: np.sum(w) - 1},  # weights sum to 1\n",
    "        {'type': 'eq', 'fun': lambda w: w.T @ mu - target_return}  # target return achieved\n",
    "    ]\n",
    "\n",
    "    # Bounds: can short sell or no? \n",
    "    if allow_shorts:\n",
    "        bounds = [(-1, 1) for _ in range(n)] # Allow short positions up to 100% \n",
    "    else:\n",
    "        bounds = [(0, 1) for _ in range(n)] # Long-only (no shorting)\n",
    "\n",
    "    # Initial guess: start with equal weights\n",
    "    x0 = np.ones(n) / n\n",
    "\n",
    "    # Optimize using Sequential Least Squares Programming \n",
    "    result = minimize(objective, x0, method='SLSQP', bounds=bounds, constraints=constraints)\n",
    "\n",
    "    # Check if optimization succeeded\n",
    "    if not result.success:\n",
    "        return None, None, None, None\n",
    "    \n",
    "    # Extract results\n",
    "    weights = result.x\n",
    "    portfolio_return = weights.T @ mu # Expected return \n",
    "    portfolio_vol = np.sqrt(weights.T @ Sigma @ weights) # Standard deviation\n",
    "    sharpe_ratio = (portfolio_return - CONFIG['RF_ANNUAL']) / portfolio_vol # Risk-adjusted return\n",
    "\n",
    "    return weights, portfolio_return, portfolio_vol, sharpe_ratio\n",
    "\n",
    "    "
   ]
  },
  {
   "cell_type": "markdown",
   "id": "b7991e50",
   "metadata": {},
   "source": [
    "### Frontier Generation"
   ]
  },
  {
   "cell_type": "code",
   "execution_count": 97,
   "id": "c6be233b",
   "metadata": {},
   "outputs": [
    {
     "name": "stdout",
     "output_type": "stream",
     "text": [
      "Target return range: 0.1112 to 0.6647\n",
      "Generated 50 frontier points\n",
      "Return range: 0.1112 to 0.6647\n",
      "Volatility range: 0.1554 to 0.5080\n",
      "Sharpe range: 0.2274 to 1.2899\n"
     ]
    }
   ],
   "source": [
    "# Generaste efficient frontier\n",
    "print(f\"Target return range: {mu.min():.4f} to {mu.max():.4f}\")\n",
    "\n",
    "# Creata target returns from min to max with 50 points\n",
    "# Gives smooth cruve on the frontier\n",
    "target_returns = np.linspace(mu.min(), mu.max(), 50)\n",
    "\n",
    "# Store frontier results \n",
    "frontier_results =[] \n",
    "\n",
    "# For each target return, find minimum variance portfolio\n",
    "for target_ret in target_returns:\n",
    "    weights, port_ret, port_vol, sharpe = markowitz_optimize(\n",
    "        mu, Sigma, target_ret, CONFIG['ALLOW_SHORTS']\n",
    "    )\n",
    "\n",
    "    # Only keep succesful optimizations \n",
    "    if weights is not None: \n",
    "        frontier_results.append({\n",
    "            'target_return': target_ret,\n",
    "            'portfolio_return': port_ret,\n",
    "            'portfolio_vol': port_vol,\n",
    "            'sharpe_ratio': sharpe,\n",
    "            'weights': weights.copy() # Store weights for later analysis\n",
    "        })\n",
    "\n",
    "print(f\"Generated {len(frontier_results)} frontier points\")\n",
    "\n",
    "# Convert to Dataframe for easier analysis\n",
    "frontier_df = pd.DataFrame(frontier_results)\n",
    "print(f\"Return range: {frontier_df['portfolio_return'].min():.4f} to {frontier_df['portfolio_return'].max():.4f}\")\n",
    "print(f\"Volatility range: {frontier_df['portfolio_vol'].min():.4f} to {frontier_df['portfolio_vol'].max():.4f}\")\n",
    "print(f\"Sharpe range: {frontier_df['sharpe_ratio'].min():.4f} to {frontier_df['sharpe_ratio'].max():.4f}\")"
   ]
  },
  {
   "cell_type": "markdown",
   "id": "17866026",
   "metadata": {},
   "source": [
    "## Sharpe Ratio Maximization (Tangency Portflio)\n",
    "\n",
    "- Finds tangency portfolio that maximizes Sharpe ratio\n",
    "- Uses optimization to get best risk-adjusted return portfolio"
   ]
  },
  {
   "cell_type": "markdown",
   "id": "5b8b8211",
   "metadata": {},
   "source": [
    "### Function definition"
   ]
  },
  {
   "cell_type": "code",
   "execution_count": null,
   "id": "78cd84b7",
   "metadata": {},
   "outputs": [],
   "source": [
    "# Sharpe Ratio Maximiation \n",
    "def maximize_sharpe(mu, Sigma, rf_rate, allow_shorts=False):\n",
    "    \"\"\"\n",
    "    Maximize Sharpe ratio to find tangency portfolio\n",
    "    This finds the portfolio with the highest risk-adjusted returns\n",
    "    Returns: (weights, portfolio_return, portfolio_vol, sharpe_ratio)\n",
    "    \"\"\"\n",
    "    n = len(mu) # Num of assets\n",
    "\n",
    "    # Objective function: negative Sharpe ratio (minimize to maximize)\n",
    "    def objective(w):\n",
    "        portfolio_return = w.T @ mu # expected retunr\n",
    "        portfolio_vol = np.sqrt(w.T @ Sigma @ w) # Standard deviation\n",
    "        sharpe = (portfolio_return - rf_rate) / portfolio_vol # Sharpe ratio \n",
    "        return -sharpe # Negative to minimize \n",
    "    \n",
    "    # Constraaints: weights must sum to 1 \n",
    "    constraints = [\n",
    "        {'type': 'eq', 'fun': lambda w: np.sum(w) - 1}  # weights sum to 1\n",
    "    ]\n",
    "\n",
    "    # Bounds: sell or no? \n",
    "    if allow_shorts:\n",
    "        bounds = [(-1, 1) for _ in range(n)]  # Allow short positions\n",
    "    else:\n",
    "        bounds = [(0, 1) for _ in range(n)]  # Long\n",
    "        \n",
    "    # Initial guess: start with equal weights\n",
    "    x0 = np.ones(n) / n\n",
    "\n",
    "     # Optimize using Sequential Least Squares Programming\n",
    "    result = minimize(objective, x0, method='SLSQP', bounds=bounds, constraints=constraints)\n",
    "\n",
    "    # Check if optimization succeeded\n",
    "    if not result.success:\n",
    "        return None, None, None, None\n",
    "    \n",
    "    # Extract results\n",
    "    weights = result.x\n",
    "    portfolio_return = weights.T @ mu # Expected return \n",
    "    portfolio_vol = np.sqrt(weights.T @ Sigma @ weights) # Standard deviation\n",
    "    sharpe_ratio = (portfolio_return - rf_rate / portfolio_vol) # Risk-adjusted return \n",
    "\n",
    "    return weights, portfolio_return, portfolio_vol, sharpe_ratio\n",
    "    "
   ]
  },
  {
   "cell_type": "markdown",
   "id": "f0b94b21",
   "metadata": {},
   "source": [
    "### Tangency Portfolio "
   ]
  },
  {
   "cell_type": "code",
   "execution_count": 99,
   "id": "cefb2cd3",
   "metadata": {},
   "outputs": [
    {
     "name": "stdout",
     "output_type": "stream",
     "text": [
      "\n",
      "Tangency Portfolio Results:\n",
      "Return: 0.3912 (39.12%)\n",
      "Volatility: 0.2713 (27.13%)\n",
      "Sharpe Ratio: 0.2394\n",
      "\n",
      "Weights sum: 1.000000\n"
     ]
    }
   ],
   "source": [
    "# Find tangency portfolio (Max Sharpe)\n",
    "tangency_weights, tangency_return, tangency_vol, tangency_sharpe = maximize_sharpe(\n",
    "    mu, Sigma, CONFIG['RF_ANNUAL'], CONFIG['ALLOW_SHORTS']\n",
    ")\n",
    "\n",
    "if tangency_weights is not None: \n",
    "    print(f\"\\nTangency Portfolio Results:\")\n",
    "    print(f\"Return: {tangency_return:.4f} ({tangency_return*100:.2f}%)\")\n",
    "    print(f\"Volatility: {tangency_vol:.4f} ({tangency_vol*100:.2f}%)\")\n",
    "    print(f\"Sharpe Ratio: {tangency_sharpe:.4f}\")\n",
    "    print(f\"\\nWeights sum: {np.sum(tangency_weights):.6f}\")\n",
    "else:\n",
    "    print(\"Failed to find tangency portfolio\")"
   ]
  },
  {
   "cell_type": "markdown",
   "id": "703ed6a4",
   "metadata": {},
   "source": [
    "## Results (Frontier + Points + Weights) \n",
    "\n",
    "- Calculates equal-weight portfolio for comparison\n",
    "- Provides benchmark against optimized portfolios\n",
    "- Plots efficient frontier with individual assets and key portfolios\n",
    "- Shows Max-Sharpe weights as bar chart\n",
    "- Displays comparison table with risk metrics"
   ]
  },
  {
   "cell_type": "code",
   "execution_count": 100,
   "id": "885a8c56",
   "metadata": {},
   "outputs": [
    {
     "name": "stdout",
     "output_type": "stream",
     "text": [
      "Equal-Weight Portfolio:\n",
      "  Return: 0.2811 (28.11%)\n",
      "  Volatility: 0.2487 (24.87%)\n",
      "  Sharpe: 0.9646\n"
     ]
    }
   ],
   "source": [
    "def equal_weight_portfolio(mu, Sigma):\n",
    "    \"\"\"Calculate equal-weight portfolio statistics\"\"\"\n",
    "    n = len(mu)\n",
    "    weights = np.ones(n) / n # Equal weights: 1/n for each asset\n",
    "    portfolio_return = weights.T @ mu \n",
    "    portfolio_vol = np.sqrt(weights.T @ Sigma @ weights)\n",
    "    sharpe_ratio = (portfolio_return - CONFIG['RF_ANNUAL']) / portfolio_vol \n",
    "    return weights, portfolio_return, portfolio_vol, sharpe_ratio\n",
    "\n",
    "# Calculate equal-weight portfolio\n",
    "ew_weights, ew_return, ew_vol, ew_sharpe = equal_weight_portfolio(mu, Sigma)\n",
    "\n",
    "# Checkpoint \n",
    "print(f\"Equal-Weight Portfolio:\")\n",
    "print(f\"  Return: {ew_return:.4f} ({ew_return*100:.2f}%)\")\n",
    "print(f\"  Volatility: {ew_vol:.4f} ({ew_vol*100:.2f}%)\")\n",
    "print(f\"  Sharpe: {ew_sharpe:.4f}\")"
   ]
  },
  {
   "cell_type": "markdown",
   "id": "316a6359",
   "metadata": {},
   "source": [
    "## Comparison Table & Diagnostics \n",
    "Create a comparison table showing key metrics for all portfolios"
   ]
  },
  {
   "cell_type": "code",
   "execution_count": 101,
   "id": "4110f930",
   "metadata": {},
   "outputs": [
    {
     "name": "stdout",
     "output_type": "stream",
     "text": [
      "Portfolio Comparison Table:\n",
      "================================================================================\n",
      "   Portfolio  Return  Volatility  Sharpe   HHI  ENB\n",
      "Equal-Weight   28.11       24.87   0.965 0.125  8.0\n",
      "\n",
      "Notes:\n",
      "- Return and Volatility are in percentage terms\n",
      "- HHI (Herfindahl-Hirschman Index): concentration measure (lower = more diversified)\n",
      "- ENB (Effective Number of Bets): diversification measure (higher = more diversified)\n",
      "- Risk-free rate: 4.12%\n"
     ]
    }
   ],
   "source": [
    "def calculate_hhi(weights):\n",
    "    \"\"\"Calculate Herfindahl-Hirschman Index (concentration measure)\"\"\"\n",
    "    return np.sum(weights**2)\n",
    "\n",
    "def calculate_enb(weights):\n",
    "    \"\"\"Calculate Effective Number of Bets (1/HHI)\"\"\"\n",
    "    hhi = calculate_hhi(weights)\n",
    "    return 1 / hhi if hhi > 0 else np.inf\n",
    "\n",
    "# Prepare comparison data\n",
    "comparison_data =[]\n",
    "\n",
    "# Equal-eight portfolio \n",
    "comparison_data.append({\n",
    "    'Portfolio': 'Equal-Weight',\n",
    "    'Return': ew_return,\n",
    "    'Volatility': ew_vol,\n",
    "    'Sharpe': ew_sharpe,\n",
    "    'HHI': calculate_hhi(ew_weights),\n",
    "    'ENB': calculate_enb(ew_weights)\n",
    "})\n",
    "\n",
    "# Max Sharpe portfolio \n",
    "comparison_df = pd.DataFrame(comparison_data)\n",
    "\n",
    "# Format for display \n",
    "display_df = comparison_df.copy()\n",
    "display_df['Return'] = (display_df['Return'] * 100).round(2)\n",
    "display_df['Volatility'] = (display_df['Volatility'] * 100).round(2)\n",
    "display_df['Sharpe'] = display_df['Sharpe'].round(3)\n",
    "display_df['HHI'] = display_df['HHI'].round(3)\n",
    "display_df['ENB'] = display_df['ENB'].round(2)\n",
    "\n",
    "# Checkpoint \n",
    "print(\"Portfolio Comparison Table:\")\n",
    "print(\"=\" * 80)\n",
    "print(display_df.to_string(index=False))\n",
    "print(\"\\nNotes:\")\n",
    "print(\"- Return and Volatility are in percentage terms\")\n",
    "print(\"- HHI (Herfindahl-Hirschman Index): concentration measure (lower = more diversified)\")\n",
    "print(\"- ENB (Effective Number of Bets): diversification measure (higher = more diversified)\")\n",
    "print(f\"- Risk-free rate: {CONFIG['RF_ANNUAL']*100:.2f}%\")"
   ]
  },
  {
   "cell_type": "markdown",
   "id": "f87eedfc",
   "metadata": {},
   "source": [
    "## Finalization \n",
    "\n",
    "- Shows detailed analysis of chosen portfolio\n",
    "- Provides configuration helper for parameter updates\n",
    "- Displays all graphs and results in one place"
   ]
  },
  {
   "cell_type": "code",
   "execution_count": 102,
   "id": "0a09b8af",
   "metadata": {},
   "outputs": [
    {
     "name": "stdout",
     "output_type": "stream",
     "text": [
      "\n",
      "Max Sharpe Portfolio Detailed Analysis:\n",
      "==================================================\n",
      "Total weight: 1.000000\n",
      "Number of assets: 8\n",
      "Non-zero weights: 3\n",
      "\n",
      "Weights (sorted by absolute value):\n",
      "------------------------------\n",
      " GOOGL:   0.4310 ( 43.10%)\n",
      "  NVDA:   0.4183 ( 41.83%)\n",
      "  AMZN:   0.1507 ( 15.07%)\n",
      "  TSLA:   0.0000 (  0.00%)\n",
      "  META:   0.0000 (  0.00%)\n",
      "  AAPL:   0.0000 (  0.00%)\n",
      "  MSFT:   0.0000 (  0.00%)\n",
      " BRK-B:   0.0000 (  0.00%)\n",
      "\n",
      "Concentration Analysis:\n",
      "  HHI: 0.3835\n",
      "  ENB: 2.61\n",
      "  Max weight: 0.4310\n",
      "  Min weight: 0.0000\n",
      "\n",
      "Risk Metrics:\n",
      "  Portfolio volatility: 0.2713 (27.13%)\n",
      "  Portfolio return: 0.3912 (39.12%)\n",
      "  Sharpe ratio: 0.2394\n",
      "  Risk-free rate: 0.0412 (4.12%)\n"
     ]
    }
   ],
   "source": [
    "print(\"\\nMax Sharpe Portfolio Detailed Analysis:\")\n",
    "print(\"=\" * 50)\n",
    "print(f\"Total weight: {np.sum(tangency_weights):.6f}\")\n",
    "print(f\"Number of assets: {len(CONFIG['TICKERS'])}\")\n",
    "print(f\"Non-zero weights: {np.sum(np.abs(tangency_weights) > 1e-6)}\")\n",
    "\n",
    "# Sort weights by absolute value\n",
    "weight_analysis = list(zip(CONFIG['TICKERS'], tangency_weights))\n",
    "weight_analysis.sort(key=lambda x: abs(x[1]), reverse=True)\n",
    "\n",
    "print(\"\\nWeights (sorted by absolute value):\")\n",
    "print(\"-\" * 30)\n",
    "for ticker, weight in weight_analysis:\n",
    "    print(f\"{ticker:>6}: {weight:8.4f} ({weight*100:6.2f}%)\")\n",
    "\n",
    "# Concentration analysis\n",
    "print(f\"\\nConcentration Analysis:\")\n",
    "print(f\"  HHI: {calculate_hhi(tangency_weights):.4f}\")\n",
    "print(f\"  ENB: {calculate_enb(tangency_weights):.2f}\")\n",
    "print(f\"  Max weight: {np.max(np.abs(tangency_weights)):.4f}\")\n",
    "print(f\"  Min weight: {np.min(np.abs(tangency_weights)):.4f}\")\n",
    "\n",
    "# Risk metrics\n",
    "print(f\"\\nRisk Metrics:\")\n",
    "print(f\"  Portfolio volatility: {tangency_vol:.4f} ({tangency_vol*100:.2f}%)\")\n",
    "print(f\"  Portfolio return: {tangency_return:.4f} ({tangency_return*100:.2f}%)\")\n",
    "print(f\"  Sharpe ratio: {tangency_sharpe:.4f}\")\n",
    "print(f\"  Risk-free rate: {CONFIG['RF_ANNUAL']:.4f} ({CONFIG['RF_ANNUAL']*100:.2f}%)\")"
   ]
  },
  {
   "cell_type": "markdown",
   "id": "15617d87",
   "metadata": {},
   "source": [
    "### Display Graphs"
   ]
  },
  {
   "cell_type": "code",
   "execution_count": null,
   "id": "a3c79ec7",
   "metadata": {},
   "outputs": [
    {
     "name": "stdout",
     "output_type": "stream",
     "text": [
      "============================================================\n",
      "PORTFOLIO OPTIMIZATION GRAPHS\n",
      "============================================================\n"
     ]
    },
    {
     "name": "stderr",
     "output_type": "stream",
     "text": [
      "/var/folders/q3/lqkxfhqd69scqh0r94mkbdm00000gn/T/ipykernel_68061/3797432972.py:16: FutureWarning: Series.__getitem__ treating keys as positions is deprecated. In a future version, integer keys will always be treated as labels (consistent with DataFrame behavior). To access a value by position, use `ser.iloc[pos]`\n",
      "  plt.annotate(ticker, (asset_vols[i], mu[i]), xytext=(5, 5), textcoords='offset points', fontsize=8)\n"
     ]
    },
    {
     "data": {
      "image/png": "[encoded data removed]",
      "text/plain": [
       "<Figure size 1200x800 with 1 Axes>"
      ]
     },
     "metadata": {},
     "output_type": "display_data"
    },
    {
     "data": {
      "image/png": "[encoded data removed]",
      "text/plain": [
       "<Figure size 1200x800 with 1 Axes>"
      ]
     },
     "metadata": {},
     "output_type": "display_data"
    },
    {
     "name": "stdout",
     "output_type": "stream",
     "text": [
      "\n",
      "Portfolio Comparison Table:\n",
      "============================================================\n",
      "   Portfolio  Return  Volatility  Sharpe   HHI  ENB\n",
      "Equal-Weight   28.11       24.87   0.965 0.125  8.0\n",
      "\n",
      "============================================================\n",
      "Analysis Complete\n",
      "============================================================\n"
     ]
    }
   ],
   "source": [
    "print(\"=\" * 60)\n",
    "print(\"PORTFOLIO OPTIMIZATION GRAPHS\")\n",
    "print(\"=\" * 60)\n",
    "\n",
    "# Efficient Frontier Plot\n",
    "plt.figure(figsize=(12,8))\n",
    "if len(frontier_df) > 0:\n",
    "    plt.plot(frontier_df['portfolio_vol'], frontier_df['portfolio_return'], 'b-', linewidth=2, label='Efficient Frontier', alpha=0.7)\n",
    "\n",
    "# Plot individual assets\n",
    "asset_vols = np.sqrt(np.diag(Sigma))\n",
    "plt.scatter(asset_vols, mu, color='grey', s=50, alpha=0.6, label='Individual Assets')\n",
    "\n",
    "# Add labels for each asset\n",
    "for i, ticker in enumerate(CONFIG['TICKERS']):\n",
    "    plt.annotate(ticker, (asset_vols[i], mu[i]), xytext=(5, 5), textcoords='offset points', fontsize=8)\n",
    "\n",
    "# Plot key portfolios\n",
    "plt.scatter(ew_vol, ew_return, color='green', s=100, marker='o', label='Equal-Weight', edgecolors='black', linewidth=1)\n",
    "plt.scatter(tangency_vol, tangency_return, color='red', s=100, marker='s', label='Max Sharpe', edgecolor='black', linewidth=1)\n",
    "\n",
    "plt.xlabel('Volatility')\n",
    "plt.ylabel('Expected Return')\n",
    "plt.title(\"Efficient Frontier with Key Portfolios\")\n",
    "plt.legend()\n",
    "plt.grid(True, alpha=0.3)\n",
    "plt.show()\n",
    "\n",
    "\n",
    "# Max Sharpe Weights Bar Chart\n",
    "plt.figure(figsize=(12,8))  \n",
    "weight_data = list(zip(CONFIG['TICKERS'], tangency_weights)) \n",
    "weight_data.sort(key=lambda x: abs(x[1]), reverse=True)\n",
    "tickers_sorted, weights_sorted = zip(*weight_data)\n",
    "\n",
    "bars = plt.bar(range(len(tickers_sorted)), weights_sorted, color=['red' if w < 0 else 'blue' for w in weights_sorted], alpha=0.7, edgecolor = 'black', linewidth=0.5)\n",
    "\n",
    "plt.xlabel('Assets')\n",
    "plt.ylabel('Portfolio Weight')\n",
    "plt.title('Max Sharpe Portfolio Weights')\n",
    "plt.xticks(range(len(tickers_sorted)), tickers_sorted, rotation=45)\n",
    "plt.grid(True, alpha=0.3, axis='y')\n",
    "plt.axhline(y=0, color='black', linewidth=0.5)\n",
    "\n",
    "# Add value labels on bars\n",
    "for i, (bar, weight) in enumerate(zip(bars, weights_sorted)):\n",
    "    height = bar.get_height()\n",
    "    plt.text(bar.get_x() + bar.get_width()/2., height + (0.01 if height >= 0 else -0.01), f'{weight:.3f}', ha='center', va='bottom' if height >= 0 else 'top', fontsize=9)\n",
    "\n",
    "plt.tight_layout()\n",
    "plt.show()\n",
    "\n",
    "# Display Comparison table\n",
    "print(\"\\nPortfolio Comparison Table:\")\n",
    "print(\"=\" * 60)\n",
    "print(display_df.to_string(index=False))\n",
    "\n",
    "print(\"\\n\" + \"=\" * 60)\n",
    "print(\"Analysis Complete\")\n",
    "print(\"=\" * 60)"
   ]
  }
 ],
 "metadata": {
  "kernelspec": {
   "display_name": ".venv",
   "language": "python",
   "name": "python3"
  },
  "language_info": {
   "codemirror_mode": {
    "name": "ipython",
    "version": 3
   },
   "file_extension": ".py",
   "mimetype": "text/x-python",
   "name": "python",
   "nbconvert_exporter": "python",
   "pygments_lexer": "ipython3",
   "version": "3.14.0"
  }
 },
 "nbformat": 4,
 "nbformat_minor": 5
}
